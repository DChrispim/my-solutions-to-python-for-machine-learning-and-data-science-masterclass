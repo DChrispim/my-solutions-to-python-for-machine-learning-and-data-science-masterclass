{
 "cells": [
  {
   "cell_type": "markdown",
   "metadata": {},
   "source": [
    "# 01-02-Exercises\n",
    "\n",
    "**Description:** Basic list of Python code exercises.\n"
   ]
  },
  {
   "cell_type": "markdown",
   "metadata": {},
   "source": [
    "---\n",
    "\n",
    "## Question 1\n",
    "\n",
    "Answer the following questions using Python.\n"
   ]
  },
  {
   "cell_type": "markdown",
   "metadata": {},
   "source": [
    "### (a)\n",
    "\n",
    "Compute $7^4$ (7 to the power of 4).\n"
   ]
  },
  {
   "cell_type": "code",
   "execution_count": 2,
   "metadata": {},
   "outputs": [
    {
     "data": {
      "text/plain": [
       "2401"
      ]
     },
     "execution_count": 2,
     "metadata": {},
     "output_type": "execute_result"
    }
   ],
   "source": [
    "# Method 1\n",
    "7**4"
   ]
  },
  {
   "cell_type": "code",
   "execution_count": 3,
   "metadata": {},
   "outputs": [
    {
     "data": {
      "text/plain": [
       "2401"
      ]
     },
     "execution_count": 3,
     "metadata": {},
     "output_type": "execute_result"
    }
   ],
   "source": [
    "# Method 2\n",
    "pow(7, 4)"
   ]
  },
  {
   "cell_type": "markdown",
   "metadata": {},
   "source": [
    "### (c)\n",
    "\n",
    "Split the string, <code>\"Hi there Sam!\"</code>, into a list of each word.\n"
   ]
  },
  {
   "cell_type": "code",
   "execution_count": 4,
   "metadata": {},
   "outputs": [
    {
     "data": {
      "text/plain": [
       "['Hi', 'there', 'Sam!']"
      ]
     },
     "execution_count": 4,
     "metadata": {},
     "output_type": "execute_result"
    }
   ],
   "source": [
    "phrase = \"Hi there Sam!\"\n",
    "phrase.split(\" \")"
   ]
  },
  {
   "cell_type": "markdown",
   "metadata": {},
   "source": [
    "### (d)\n",
    "\n",
    "Use the variables\n",
    "\n",
    "    planet = \"Earth\",\n",
    "    diameter = 12742\n",
    "\n",
    "to print the following string:\n",
    "\n",
    "    The diameter of Earth is 12742 kilometers.\n"
   ]
  },
  {
   "cell_type": "code",
   "execution_count": 5,
   "metadata": {},
   "outputs": [],
   "source": [
    "# Variables\n",
    "planet = \"Earth\"\n",
    "diameter = 12742"
   ]
  },
  {
   "cell_type": "code",
   "execution_count": 6,
   "metadata": {},
   "outputs": [
    {
     "name": "stdout",
     "output_type": "stream",
     "text": [
      "The diameter of Earth is 12742 kilometers.\n"
     ]
    }
   ],
   "source": [
    "# Method 1\n",
    "print(\"The diameter of \" + planet + \" is \" + str(diameter) + \" kilometers.\")"
   ]
  },
  {
   "cell_type": "code",
   "execution_count": 7,
   "metadata": {},
   "outputs": [
    {
     "name": "stdout",
     "output_type": "stream",
     "text": [
      "The diameter of Earth is 12742 kilometers.\n"
     ]
    }
   ],
   "source": [
    "# Method 2\n",
    "print(\"The diameter of {} is {} kilometers.\".format(planet, diameter))"
   ]
  },
  {
   "cell_type": "code",
   "execution_count": 8,
   "metadata": {},
   "outputs": [
    {
     "name": "stdout",
     "output_type": "stream",
     "text": [
      "The diameter of Earth is 12742 kilometers.\n"
     ]
    }
   ],
   "source": [
    "# Method 3\n",
    "print(f\"The diameter of {planet} is {diameter} kilometers.\")"
   ]
  },
  {
   "cell_type": "markdown",
   "metadata": {},
   "source": [
    "### (e)\n",
    "\n",
    "Use the following list\n",
    "\n",
    "    lst = [1,2,[3,4],[5,[100,200,['hello']],23,11],1,7]\n",
    "\n",
    "to print the word <code>hello</code>.\n"
   ]
  },
  {
   "cell_type": "code",
   "execution_count": 9,
   "metadata": {},
   "outputs": [],
   "source": [
    "# Variables\n",
    "nested_list = [1, 2, [3, 4], [5, [100, 200, ['hello']], 23, 11], 1, 7]"
   ]
  },
  {
   "cell_type": "code",
   "execution_count": 10,
   "metadata": {},
   "outputs": [
    {
     "data": {
      "text/plain": [
       "'hello'"
      ]
     },
     "execution_count": 10,
     "metadata": {},
     "output_type": "execute_result"
    }
   ],
   "source": [
    "# Method 1\n",
    "nested_list[3][1][2][0]"
   ]
  },
  {
   "cell_type": "code",
   "execution_count": 11,
   "metadata": {},
   "outputs": [
    {
     "name": "stdout",
     "output_type": "stream",
     "text": [
      "hello\n"
     ]
    }
   ],
   "source": [
    "# Method 2\n",
    "def find_word(nested_list):\n",
    "    for i in nested_list:\n",
    "        if type(i) == list:\n",
    "            find_word(i)\n",
    "        elif type(i) == str:\n",
    "            return print(i)\n",
    "\n",
    "\n",
    "find_word(nested_list)"
   ]
  },
  {
   "cell_type": "markdown",
   "metadata": {},
   "source": [
    "### (f)\n",
    "\n",
    "Use the following dictionary\n",
    "\n",
    "    d = {'k1':[1,2,3,{'tricky':['oh','man','inception',{'target':[1,2,3,'hello']}]}]}\n",
    "\n",
    "to print the word <code>hello</code>.\n"
   ]
  },
  {
   "cell_type": "code",
   "execution_count": 12,
   "metadata": {},
   "outputs": [],
   "source": [
    "# Variables\n",
    "nested_dict = {'k1': [1, 2, 3, {'tricky': [\n",
    "    'oh', 'man', 'inception', {'target': [1, 2, 3, 'hello']}]}]}"
   ]
  },
  {
   "cell_type": "code",
   "execution_count": 13,
   "metadata": {},
   "outputs": [
    {
     "data": {
      "text/plain": [
       "'hello'"
      ]
     },
     "execution_count": 13,
     "metadata": {},
     "output_type": "execute_result"
    }
   ],
   "source": [
    "# Method 1\n",
    "nested_dict[\"k1\"][3]['tricky'][3]['target'][3]"
   ]
  },
  {
   "cell_type": "markdown",
   "metadata": {},
   "source": [
    "### (g)\n",
    "\n",
    "What is the main difference between a tuple and a list?\n",
    "\n",
    "> Tuple is immutable. Lists can be rearranged, reassign and sorted.\n"
   ]
  },
  {
   "cell_type": "markdown",
   "metadata": {},
   "source": [
    "### (h)\n",
    "\n",
    "Write a function that returns the email domain. For example,\n",
    "\n",
    "    Input: \"user@domain.com\"\n",
    "    Output: \"domain.com\"\n"
   ]
  },
  {
   "cell_type": "code",
   "execution_count": 14,
   "metadata": {},
   "outputs": [
    {
     "name": "stdout",
     "output_type": "stream",
     "text": [
      "Overwriting scripts/get_domain.py\n"
     ]
    }
   ],
   "source": [
    "%%writefile \"scripts/get_domain.py\"\n",
    "# Function definition\n",
    "\n",
    "def get_domain(email):\n",
    "    split = email.split(\"@\")\n",
    "    if len(split) != 2:\n",
    "        raise ValueError(\"Endereço de e-mail inválido. Deve conter exatamente um '@'.\")\n",
    "    return split[1]"
   ]
  },
  {
   "cell_type": "code",
   "execution_count": 15,
   "metadata": {},
   "outputs": [
    {
     "name": "stdout",
     "output_type": "stream",
     "text": [
      "Overwriting scripts/test_get_domain.py\n"
     ]
    }
   ],
   "source": [
    "%%writefile \"scripts/test_get_domain.py\"\n",
    "# Test the function\n",
    "\n",
    "# Imports\n",
    "import unittest\n",
    "from get_domain import *\n",
    "\n",
    "# Test definitions\n",
    "class TestLesserOfTwoEvens(unittest.TestCase):\n",
    "    def test_valid_email(self):\n",
    "        self.assertEqual(get_domain(\"john.doe@example.com\"), \"example.com\")\n",
    "        self.assertEqual(get_domain(\"alice.smith@gmail.com\"), \"gmail.com\")\n",
    "        self.assertEqual(get_domain(\"info@company.org\"), \"company.org\")\n",
    "\n",
    "    def test_invalid_email(self):\n",
    "        with self.assertRaises(Exception) as context:\n",
    "            get_domain(\"invalid_email\")\n",
    "\n",
    "        self.assertTrue(\"Endereço de e-mail inválido. Deve conter exatamente um '@'.\" in str(context.exception))\n",
    "\n",
    "    def test_empty_email(self):\n",
    "        with self.assertRaises(Exception) as context:\n",
    "            get_domain(\"\")\n",
    "\n",
    "        self.assertTrue(\"Endereço de e-mail inválido. Deve conter exatamente um '@'.\" in str(context.exception))\n",
    "\n",
    "# Main\n",
    "if __name__ == '__main__':\n",
    "    unittest.main()"
   ]
  },
  {
   "cell_type": "code",
   "execution_count": 16,
   "metadata": {},
   "outputs": [
    {
     "name": "stderr",
     "output_type": "stream",
     "text": [
      "...\n",
      "----------------------------------------------------------------------\n",
      "Ran 3 tests in 0.000s\n",
      "\n",
      "OK\n"
     ]
    }
   ],
   "source": [
    "# Run tests\n",
    "! python \"scripts/test_get_domain.py\""
   ]
  },
  {
   "cell_type": "markdown",
   "metadata": {},
   "source": [
    "### (i)\n",
    "\n",
    "Write a function that returns <code>True</code> if a input word is found in a phrase. For example,\n",
    "\n",
    "    Input: 'dog', 'Is there a dog here?'\n",
    "    Output: True\n"
   ]
  },
  {
   "cell_type": "code",
   "execution_count": 17,
   "metadata": {},
   "outputs": [
    {
     "name": "stdout",
     "output_type": "stream",
     "text": [
      "Overwriting scripts/find_word_in_phrase.py\n"
     ]
    }
   ],
   "source": [
    "%%writefile \"scripts/find_word_in_phrase.py\"\n",
    "\n",
    "# Function definition\n",
    "def find_word_in_phrase(word, phrase):\n",
    "    return word in phrase.lower()"
   ]
  },
  {
   "cell_type": "code",
   "execution_count": 18,
   "metadata": {},
   "outputs": [
    {
     "name": "stdout",
     "output_type": "stream",
     "text": [
      "Overwriting scripts/test_find_word_in_phrase.py\n"
     ]
    }
   ],
   "source": [
    "%%writefile \"scripts/test_find_word_in_phrase.py\"\n",
    "\n",
    "# Imports\n",
    "import unittest\n",
    "from find_word_in_phrase import *\n",
    "\n",
    "# Teste definitions\n",
    "class TestFindWordInPhrase(unittest.TestCase):\n",
    "    def test_true(self):\n",
    "        self.assertTrue(find_word_in_phrase('dog', 'Is there a dog here?'))\n",
    "        self.assertTrue(find_word_in_phrase('dog', 'Dog?'))\n",
    "        self.assertTrue(find_word_in_phrase('dog', 'Dog...'))\n",
    "        self.assertTrue(find_word_in_phrase('cat', 'Whose cat is this?'))\n",
    "        \n",
    "    def test_false(self):\n",
    "        self.assertFalse(find_word_in_phrase('cat', 'Is there a dog here?'))\n",
    "        self.assertFalse(find_word_in_phrase('cat', 'Dog?'))\n",
    "        self.assertFalse(find_word_in_phrase('cat', 'Dog...'))\n",
    "        self.assertFalse(find_word_in_phrase('dog', 'Whose cat is this?'))\n",
    "\n",
    "# Main\n",
    "if __name__ == '__main__':\n",
    "    unittest.main()"
   ]
  },
  {
   "cell_type": "code",
   "execution_count": 19,
   "metadata": {},
   "outputs": [
    {
     "name": "stderr",
     "output_type": "stream",
     "text": [
      "..\n",
      "----------------------------------------------------------------------\n",
      "Ran 2 tests in 0.000s\n",
      "\n",
      "OK\n"
     ]
    }
   ],
   "source": [
    "# Run tests\n",
    "! python \"scripts/test_find_word_in_phrase.py\""
   ]
  },
  {
   "cell_type": "markdown",
   "metadata": {},
   "source": [
    "### (i)\n",
    "\n",
    "Write a function that returns the number of times a input word is found in a phrase. For example,\n",
    "\n",
    "    Input: 'dog', 'Is there a dog here?'\n",
    "    Output: 1\n"
   ]
  },
  {
   "cell_type": "code",
   "execution_count": 20,
   "metadata": {},
   "outputs": [
    {
     "name": "stdout",
     "output_type": "stream",
     "text": [
      "Overwriting scripts/count_word_in_phrase.py\n"
     ]
    }
   ],
   "source": [
    "%%writefile \"scripts/count_word_in_phrase.py\"\n",
    "\n",
    "# Function definition\n",
    "def count_word_in_phrase(word, phrase):\n",
    "    return phrase.lower().count(word.lower())"
   ]
  },
  {
   "cell_type": "code",
   "execution_count": 21,
   "metadata": {},
   "outputs": [
    {
     "name": "stdout",
     "output_type": "stream",
     "text": [
      "Overwriting scripts/test_count_word_in_phrase.py\n"
     ]
    }
   ],
   "source": [
    "%%writefile \"scripts/test_count_word_in_phrase.py\"\n",
    "\n",
    "# Imports\n",
    "import unittest\n",
    "from count_word_in_phrase import *\n",
    "\n",
    "# Test definitions\n",
    "class TestCountWordInPhrase(unittest.TestCase):\n",
    "    def test_equal(self):\n",
    "        self.assertEqual(count_word_in_phrase('dog', 'Is there a dog here?'), 1)\n",
    "        self.assertEqual(count_word_in_phrase('dog', 'Dog?'),1 )\n",
    "        self.assertEqual(count_word_in_phrase('cat', 'Whose cat is this?'), 1)\n",
    "        self.assertEqual(count_word_in_phrase('dog', 'This dog runs faster than the other dog dude!'),2)\n",
    "        self.assertEqual(count_word_in_phrase('cat', 'This dog runs faster than the other dog dude!'),0)\n",
    "\n",
    "# Main\n",
    "if __name__ == '__main__':\n",
    "    unittest.main()"
   ]
  },
  {
   "cell_type": "code",
   "execution_count": 22,
   "metadata": {},
   "outputs": [
    {
     "name": "stderr",
     "output_type": "stream",
     "text": [
      ".\n",
      "----------------------------------------------------------------------\n",
      "Ran 1 test in 0.000s\n",
      "\n",
      "OK\n"
     ]
    }
   ],
   "source": [
    "# Run tests\n",
    "! python \"scripts/test_count_word_in_phrase.py\""
   ]
  },
  {
   "cell_type": "markdown",
   "metadata": {},
   "source": [
    "### (k)\n",
    "\n",
    "Write a function that removes any word that **do not** starts with \"s\" from a list of words. For example,\n",
    "\n",
    "    Input: ['soup','dog','salad','cat','great'],\"s\"\n",
    "    Output: ['soup','salad']\n"
   ]
  },
  {
   "cell_type": "code",
   "execution_count": 23,
   "metadata": {},
   "outputs": [
    {
     "name": "stdout",
     "output_type": "stream",
     "text": [
      "Overwriting scripts/filter_out.py\n"
     ]
    }
   ],
   "source": [
    "%%writefile \"scripts/filter_out.py\"\n",
    "\n",
    "# Function definition\n",
    "def filter_out(words, first_letter):\n",
    "    return [word for word in words if word.lower().startswith(first_letter.lower())]"
   ]
  },
  {
   "cell_type": "code",
   "execution_count": 24,
   "metadata": {},
   "outputs": [
    {
     "name": "stdout",
     "output_type": "stream",
     "text": [
      "Overwriting scripts/test_filter_out.py\n"
     ]
    }
   ],
   "source": [
    "%%writefile \"scripts/test_filter_out.py\"\n",
    "\n",
    "# Imports\n",
    "import unittest\n",
    "from filter_out import *\n",
    "\n",
    "# Test definitions\n",
    "class TestCountWordInPhrase(unittest.TestCase):\n",
    "    def test_equal(self):\n",
    "\n",
    "        words = ['soup','dog','salad','cat','great']\n",
    "\n",
    "        self.assertEqual(filter_out(words, 's'), ['soup','salad'])\n",
    "        self.assertEqual(filter_out(words, 'd'), ['dog'])\n",
    "        self.assertEqual(filter_out(words, 'c'), ['cat'])\n",
    "\n",
    "# Main\n",
    "if __name__ == '__main__':\n",
    "    unittest.main()"
   ]
  },
  {
   "cell_type": "code",
   "execution_count": 25,
   "metadata": {},
   "outputs": [
    {
     "name": "stderr",
     "output_type": "stream",
     "text": [
      ".\n",
      "----------------------------------------------------------------------\n",
      "Ran 1 test in 0.000s\n",
      "\n",
      "OK\n"
     ]
    }
   ],
   "source": [
    "# Run tests\n",
    "! python \"scripts/test_filter_out.py\""
   ]
  },
  {
   "cell_type": "markdown",
   "metadata": {},
   "source": [
    "## Question 2\n",
    "\n",
    "You are operating a motor vehicle at a speed slightly exceeding the legal limit, and a law enforcement officer pulls you over. Your task is to create a function that produces one of three possible outcomes: \"No ticket,\" \"Small ticket,\" or \"Big ticket.\" The criteria for determining these outcomes are as follows:\n",
    "\n",
    "1. If your speed is 60 miles per hour or less, the result is \"No ticket.\"\n",
    "2. If your speed falls between 61 and 80 miles per hour (inclusive), the outcome is a \"Small ticket.\"\n",
    "3. For speeds of 81 miles per hour or higher, the consequence is a \"Big ticket.\"\n",
    "\n",
    "However, there is an exception: If it happens to be your birthday (indicated by a boolean value passed as a parameter to the function), you are allowed to exceed the speed limit by 5 miles per hour in all cases.\n"
   ]
  },
  {
   "cell_type": "code",
   "execution_count": 26,
   "metadata": {},
   "outputs": [
    {
     "name": "stdout",
     "output_type": "stream",
     "text": [
      "Overwriting scripts/caught_speeding.py\n"
     ]
    }
   ],
   "source": [
    "%%writefile \"scripts/caught_speeding.py\"\n",
    "\n",
    "# Function definition\n",
    "def caught_speeding(speed, is_birthday):\n",
    "    speed_limit = 60\n",
    "    \n",
    "    if is_birthday == True:\n",
    "        speed_limit += 5\n",
    "\n",
    "    if speed <= speed_limit:\n",
    "        return \"No ticket\"\n",
    "    elif speed_limit + 1 < speed <= speed_limit + 20:\n",
    "        return \"Small Ticket\"\n",
    "    elif speed_limit + 21 <= speed:\n",
    "        return \"Big Ticket\""
   ]
  },
  {
   "cell_type": "code",
   "execution_count": 27,
   "metadata": {},
   "outputs": [
    {
     "name": "stdout",
     "output_type": "stream",
     "text": [
      "Overwriting scripts/test_caught_speeding.py\n"
     ]
    }
   ],
   "source": [
    "%%writefile \"scripts/test_caught_speeding.py\"\n",
    "\n",
    "# Imports\n",
    "import unittest\n",
    "from caught_speeding import *\n",
    "\n",
    "# Test definitions\n",
    "class TestCountWordInPhrase(unittest.TestCase):\n",
    "    def test_equal(self):\n",
    "        self.assertEqual(caught_speeding(10,False), 'No ticket')\n",
    "        self.assertEqual(caught_speeding(81,True), 'Small Ticket')\n",
    "        self.assertEqual(caught_speeding(81,False), 'Big Ticket')\n",
    "\n",
    "# Main\n",
    "if __name__ == '__main__':\n",
    "    unittest.main()"
   ]
  },
  {
   "cell_type": "code",
   "execution_count": 28,
   "metadata": {},
   "outputs": [
    {
     "name": "stderr",
     "output_type": "stream",
     "text": [
      ".\n",
      "----------------------------------------------------------------------\n",
      "Ran 1 test in 0.000s\n",
      "\n",
      "OK\n"
     ]
    }
   ],
   "source": [
    "# Run tests\n",
    "! python \"scripts/test_caught_speeding.py\""
   ]
  }
 ],
 "metadata": {
  "kernelspec": {
   "display_name": "tf_gpu",
   "language": "python",
   "name": "python3"
  },
  "language_info": {
   "codemirror_mode": {
    "name": "ipython",
    "version": 3
   },
   "file_extension": ".py",
   "mimetype": "text/x-python",
   "name": "python",
   "nbconvert_exporter": "python",
   "pygments_lexer": "ipython3",
   "version": "3.8.0"
  }
 },
 "nbformat": 4,
 "nbformat_minor": 1
}
