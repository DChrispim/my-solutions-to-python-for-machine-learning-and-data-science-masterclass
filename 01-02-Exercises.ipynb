{
 "cells": [
  {
   "cell_type": "markdown",
   "metadata": {},
   "source": [
    "# 01-02-Exercises"
   ]
  },
  {
   "cell_type": "markdown",
   "metadata": {},
   "source": [
    "___\n",
    "## Question 1\n",
    "Complete the code exercises below"
   ]
  },
  {
   "cell_type": "markdown",
   "metadata": {},
   "source": [
    "### (a)\n",
    "Compute 7 to the power of 4"
   ]
  },
  {
   "cell_type": "code",
   "execution_count": 3,
   "metadata": {},
   "outputs": [
    {
     "data": {
      "text/plain": [
       "2401"
      ]
     },
     "execution_count": 3,
     "metadata": {},
     "output_type": "execute_result"
    }
   ],
   "source": [
    "7**4"
   ]
  },
  {
   "cell_type": "code",
   "execution_count": 4,
   "metadata": {},
   "outputs": [
    {
     "data": {
      "text/plain": [
       "2401"
      ]
     },
     "execution_count": 4,
     "metadata": {},
     "output_type": "execute_result"
    }
   ],
   "source": [
    "pow(7,4)"
   ]
  },
  {
   "cell_type": "markdown",
   "metadata": {},
   "source": [
    "### (c)\n",
    "Split this <code>\"Hi there Sam!\"</code> string into a list"
   ]
  },
  {
   "cell_type": "code",
   "execution_count": 5,
   "metadata": {},
   "outputs": [
    {
     "data": {
      "text/plain": [
       "['Hi', 'there', 'Sam!']"
      ]
     },
     "execution_count": 5,
     "metadata": {},
     "output_type": "execute_result"
    }
   ],
   "source": [
    "s = \"Hi there Sam!\"\n",
    "s.split(\" \")"
   ]
  },
  {
   "cell_type": "markdown",
   "metadata": {},
   "source": [
    "### (d)\n",
    "Use the variables\n",
    "\n",
    "    planet = \"Earth\",\n",
    "    diameter = 12742\n",
    "\n",
    "to print the following string:\n",
    "\n",
    "    The diameter of Earth is 12742 kilometers."
   ]
  },
  {
   "cell_type": "code",
   "execution_count": 6,
   "metadata": {},
   "outputs": [
    {
     "name": "stdout",
     "output_type": "stream",
     "text": [
      "The diameter of Earth is 12742 kilometers.\n"
     ]
    }
   ],
   "source": [
    "planet = \"Earth\"\n",
    "diameter = 12742\n",
    "msg = \"The diameter of {} is {} kilometers.\".format(planet,diameter)\n",
    "print(msg)"
   ]
  },
  {
   "cell_type": "markdown",
   "metadata": {},
   "source": [
    "### (e)\n",
    "Print the word <code>hello</code> from the nested list\n",
    "\n",
    "    lst = [1,2,[3,4],[5,[100,200,['hello']],23,11],1,7]\n",
    "\n",
    "using indexing"
   ]
  },
  {
   "cell_type": "code",
   "execution_count": 7,
   "metadata": {},
   "outputs": [
    {
     "data": {
      "text/plain": [
       "'hello'"
      ]
     },
     "execution_count": 7,
     "metadata": {},
     "output_type": "execute_result"
    }
   ],
   "source": [
    "lst = [1,2,[3,4],[5,[100,200,['hello']],23,11],1,7]\n",
    "lst[3][1][2][0]"
   ]
  },
  {
   "cell_type": "markdown",
   "metadata": {},
   "source": [
    "### (f)\n",
    "Print the word <code>hello</code> from the dictionary\n",
    "\n",
    "    d = {'k1':[1,2,3,{'tricky':['oh','man','inception',{'target':[1,2,3,'hello']}]}]}"
   ]
  },
  {
   "cell_type": "code",
   "execution_count": 8,
   "metadata": {},
   "outputs": [
    {
     "data": {
      "text/plain": [
       "'hello'"
      ]
     },
     "execution_count": 8,
     "metadata": {},
     "output_type": "execute_result"
    }
   ],
   "source": [
    "d = {'k1':[1,2,3,{'tricky':['oh','man','inception',{'target':[1,2,3,'hello']}]}]}\n",
    "d[\"k1\"][3]['tricky'][3]['target'][3]"
   ]
  },
  {
   "cell_type": "markdown",
   "metadata": {},
   "source": [
    "### (g)\n",
    "What is the main difference between a tuple and a list?\n",
    "\n",
    "> Tuple is immutable. Lists can be rearranged, reassign and sorted."
   ]
  },
  {
   "cell_type": "markdown",
   "metadata": {},
   "source": [
    "### (h)\n",
    "Write a function that grabs the email website domain from a string. For example,\n",
    "\n",
    "    >>get_domain(user@domain.com)\n",
    "    >>domain.com"
   ]
  },
  {
   "cell_type": "code",
   "execution_count": 1,
   "metadata": {},
   "outputs": [
    {
     "name": "stdout",
     "output_type": "stream",
     "text": [
      "Writing programs/01-02-Exercises/get_domain.py\n"
     ]
    }
   ],
   "source": [
    "%%writefile \"programs/01-02-Exercises/get_domain.py\"\n",
    "\n",
    "def get_domain(email):\n",
    "    split = email.split(\"@\")\n",
    "    if len(split) != 2:\n",
    "        raise ValueError(\"Endereço de e-mail inválido. Deve conter exatamente um '@'.\")\n",
    "    return split[1]"
   ]
  },
  {
   "cell_type": "code",
   "execution_count": 16,
   "metadata": {},
   "outputs": [
    {
     "name": "stdout",
     "output_type": "stream",
     "text": [
      "Overwriting programs/01-02-Exercises/test_get_domain.py\n"
     ]
    }
   ],
   "source": [
    "%%writefile \"programs/01-02-Exercises/test_get_domain.py\"\n",
    "import unittest\n",
    "from get_domain import *\n",
    "\n",
    "class TestLesserOfTwoEvens(unittest.TestCase):\n",
    "    def test_valid_email(self):\n",
    "        self.assertEqual(get_domain(\"john.doe@example.com\"), \"example.com\")\n",
    "        self.assertEqual(get_domain(\"alice.smith@gmail.com\"), \"gmail.com\")\n",
    "        self.assertEqual(get_domain(\"info@company.org\"), \"company.org\")\n",
    "\n",
    "    def test_invalid_email(self):\n",
    "        with self.assertRaises(Exception) as context:\n",
    "            get_domain(\"invalid_email\")\n",
    "\n",
    "        self.assertTrue(\"Endereço de e-mail inválido. Deve conter exatamente um '@'.\" in str(context.exception))\n",
    "\n",
    "    def test_empty_email(self):\n",
    "        with self.assertRaises(Exception) as context:\n",
    "            get_domain(\"\")\n",
    "\n",
    "        self.assertTrue(\"Endereço de e-mail inválido. Deve conter exatamente um '@'.\" in str(context.exception))\n",
    "\n",
    "if __name__ == '__main__':\n",
    "    unittest.main()"
   ]
  },
  {
   "cell_type": "code",
   "execution_count": 17,
   "metadata": {},
   "outputs": [
    {
     "name": "stderr",
     "output_type": "stream",
     "text": [
      "...\n",
      "----------------------------------------------------------------------\n",
      "Ran 3 tests in 0.000s\n",
      "\n",
      "OK\n"
     ]
    }
   ],
   "source": [
    "! python \"programs/01-02-Exercises/test_get_domain.py\""
   ]
  },
  {
   "cell_type": "markdown",
   "metadata": {},
   "source": [
    "### (i)\n",
    "Write a function that returns True if the word 'dog' is part of the input string"
   ]
  },
  {
   "cell_type": "code",
   "execution_count": 18,
   "metadata": {},
   "outputs": [
    {
     "name": "stdout",
     "output_type": "stream",
     "text": [
      "Writing programs/01-02-Exercises/find_word_in_phrase.py\n"
     ]
    }
   ],
   "source": [
    "%%writefile \"programs/01-02-Exercises/find_word_in_phrase.py\"\n",
    "\n",
    "def find_word_in_phrase(word, phrase):\n",
    "    return word in phrase.lower()"
   ]
  },
  {
   "cell_type": "code",
   "execution_count": 27,
   "metadata": {},
   "outputs": [
    {
     "name": "stdout",
     "output_type": "stream",
     "text": [
      "Overwriting programs/01-02-Exercises/test_find_word_in_phrase.py\n"
     ]
    }
   ],
   "source": [
    "%%writefile \"programs/01-02-Exercises/test_find_word_in_phrase.py\"\n",
    "import unittest\n",
    "from find_word_in_phrase import *\n",
    "\n",
    "class TestFindWordInPhrase(unittest.TestCase):\n",
    "    def test_true(self):\n",
    "        self.assertTrue(find_word_in_phrase('dog', 'Is there a dog here?'))\n",
    "        self.assertTrue(find_word_in_phrase('dog', 'Dog?'))\n",
    "        self.assertTrue(find_word_in_phrase('dog', 'Dog...'))\n",
    "        self.assertTrue(find_word_in_phrase('cat', 'Whose cat is this?'))\n",
    "        \n",
    "    def test_false(self):\n",
    "        self.assertFalse(find_word_in_phrase('cat', 'Is there a dog here?'))\n",
    "        self.assertFalse(find_word_in_phrase('cat', 'Dog?'))\n",
    "        self.assertFalse(find_word_in_phrase('cat', 'Dog...'))\n",
    "        self.assertFalse(find_word_in_phrase('dog', 'Whose cat is this?'))\n",
    "\n",
    "if __name__ == '__main__':\n",
    "    unittest.main()"
   ]
  },
  {
   "cell_type": "code",
   "execution_count": 28,
   "metadata": {},
   "outputs": [
    {
     "name": "stderr",
     "output_type": "stream",
     "text": [
      "..\n",
      "----------------------------------------------------------------------\n",
      "Ran 2 tests in 0.000s\n",
      "\n",
      "OK\n"
     ]
    }
   ],
   "source": [
    "! python \"programs/01-02-Exercises/test_find_word_in_phrase.py\""
   ]
  },
  {
   "cell_type": "markdown",
   "metadata": {},
   "source": [
    "### (j)\n",
    "Write a function that counts the number of times the word \"dog\" occurs in a string"
   ]
  },
  {
   "cell_type": "code",
   "execution_count": 36,
   "metadata": {},
   "outputs": [
    {
     "name": "stdout",
     "output_type": "stream",
     "text": [
      "Overwriting programs/01-02-Exercises/count_word_in_phrase.py\n"
     ]
    }
   ],
   "source": [
    "%%writefile \"programs/01-02-Exercises/count_word_in_phrase.py\"\n",
    "\n",
    "def count_word_in_phrase(word, phrase):\n",
    "    return phrase.lower().count(word.lower())"
   ]
  },
  {
   "cell_type": "code",
   "execution_count": 41,
   "metadata": {},
   "outputs": [
    {
     "name": "stdout",
     "output_type": "stream",
     "text": [
      "Overwriting programs/01-02-Exercises/test_count_word_in_phrase.py\n"
     ]
    }
   ],
   "source": [
    "%%writefile \"programs/01-02-Exercises/test_count_word_in_phrase.py\"\n",
    "import unittest\n",
    "from count_word_in_phrase import *\n",
    "\n",
    "class TestCountWordInPhrase(unittest.TestCase):\n",
    "    def test_equal(self):\n",
    "        self.assertEqual(count_word_in_phrase('dog', 'Is there a dog here?'), 1)\n",
    "        self.assertEqual(count_word_in_phrase('dog', 'Dog?'),1 )\n",
    "        self.assertEqual(count_word_in_phrase('cat', 'Whose cat is this?'), 1)\n",
    "        self.assertEqual(count_word_in_phrase('dog', 'This dog runs faster than the other dog dude!'),2)\n",
    "        self.assertEqual(count_word_in_phrase('cat', 'This dog runs faster than the other dog dude!'),0)\n",
    "\n",
    "if __name__ == '__main__':\n",
    "    unittest.main()"
   ]
  },
  {
   "cell_type": "code",
   "execution_count": 42,
   "metadata": {},
   "outputs": [
    {
     "name": "stderr",
     "output_type": "stream",
     "text": [
      ".\n",
      "----------------------------------------------------------------------\n",
      "Ran 1 test in 0.000s\n",
      "\n",
      "OK\n"
     ]
    }
   ],
   "source": [
    "! python \"programs/01-02-Exercises/test_count_word_in_phrase.py\""
   ]
  },
  {
   "cell_type": "markdown",
   "metadata": {},
   "source": [
    "### (k)\n",
    "Write a function that filters out any word that **do not** starts with \"s\" from a list of words.\n",
    "\n",
    "    >>filter_out(['soup','dog','salad','cat','great'],\"s\")\n",
    "    >>['soup','salad']"
   ]
  },
  {
   "cell_type": "code",
   "execution_count": 46,
   "metadata": {},
   "outputs": [
    {
     "name": "stdout",
     "output_type": "stream",
     "text": [
      "Overwriting programs/01-02-Exercises/filter_out.py\n"
     ]
    }
   ],
   "source": [
    "%%writefile \"programs/01-02-Exercises/filter_out.py\"\n",
    "\n",
    "def filter_out(words, first_letter):\n",
    "    return [word for word in words if word.lower().startswith(first_letter.lower())]"
   ]
  },
  {
   "cell_type": "code",
   "execution_count": 49,
   "metadata": {},
   "outputs": [
    {
     "name": "stdout",
     "output_type": "stream",
     "text": [
      "Overwriting programs/01-02-Exercises/test_filter_out.py\n"
     ]
    }
   ],
   "source": [
    "%%writefile \"programs/01-02-Exercises/test_filter_out.py\"\n",
    "import unittest\n",
    "from filter_out import *\n",
    "\n",
    "class TestCountWordInPhrase(unittest.TestCase):\n",
    "    def test_equal(self):\n",
    "\n",
    "        words = ['soup','dog','salad','cat','great']\n",
    "\n",
    "        self.assertEqual(filter_out(words, 's'), ['soup','salad'])\n",
    "        self.assertEqual(filter_out(words, 'd'), ['dog'])\n",
    "        self.assertEqual(filter_out(words, 'c'), ['cat'])\n",
    "\n",
    "if __name__ == '__main__':\n",
    "    unittest.main()"
   ]
  },
  {
   "cell_type": "code",
   "execution_count": 50,
   "metadata": {},
   "outputs": [
    {
     "name": "stderr",
     "output_type": "stream",
     "text": [
      ".\n",
      "----------------------------------------------------------------------\n",
      "Ran 1 test in 0.000s\n",
      "\n",
      "OK\n"
     ]
    }
   ],
   "source": [
    "! python \"programs/01-02-Exercises/test_filter_out.py\""
   ]
  },
  {
   "cell_type": "markdown",
   "metadata": {},
   "source": [
    "## Question 2\n",
    "\n",
    "You are operating a motor vehicle at a speed slightly exceeding the legal limit, and a law enforcement officer pulls you over. Your task is to create a function that produces one of three possible outcomes: \"No ticket,\" \"Small ticket,\" or \"Big ticket.\" The criteria for determining these outcomes are as follows:\n",
    "\n",
    "1. If your speed is 60 miles per hour or less, the result is \"No ticket.\"\n",
    "2. If your speed falls between 61 and 80 miles per hour (inclusive), the outcome is a \"Small ticket.\"\n",
    "3. For speeds of 81 miles per hour or higher, the consequence is a \"Big ticket.\"\n",
    "\n",
    "However, there is an exception: If it happens to be your birthday (indicated by a boolean value passed as a parameter to the function), you are allowed to exceed the speed limit by 5 miles per hour in all cases.\n"
   ]
  },
  {
   "cell_type": "code",
   "execution_count": 56,
   "metadata": {},
   "outputs": [
    {
     "name": "stdout",
     "output_type": "stream",
     "text": [
      "Overwriting programs/01-02-Exercises/caught_speeding.py\n"
     ]
    }
   ],
   "source": [
    "%%writefile \"programs/01-02-Exercises/caught_speeding.py\"\n",
    "\n",
    "def caught_speeding(speed, is_birthday):\n",
    "    speed_limit = 60\n",
    "    \n",
    "    if is_birthday == True:\n",
    "        speed_limit += 5\n",
    "\n",
    "    if speed <= speed_limit:\n",
    "        return \"No ticket\"\n",
    "    elif speed_limit + 1 < speed <= speed_limit + 20:\n",
    "        return \"Small Ticket\"\n",
    "    elif speed_limit + 21 <= speed:\n",
    "        return \"Big Ticket\""
   ]
  },
  {
   "cell_type": "code",
   "execution_count": 57,
   "metadata": {},
   "outputs": [
    {
     "name": "stdout",
     "output_type": "stream",
     "text": [
      "Overwriting programs/01-02-Exercises/test_caught_speeding.py\n"
     ]
    }
   ],
   "source": [
    "%%writefile \"programs/01-02-Exercises/test_caught_speeding.py\"\n",
    "import unittest\n",
    "from caught_speeding import *\n",
    "\n",
    "class TestCountWordInPhrase(unittest.TestCase):\n",
    "    def test_equal(self):\n",
    "        self.assertEqual(caught_speeding(10,False), 'No ticket')\n",
    "        self.assertEqual(caught_speeding(81,True), 'Small Ticket')\n",
    "        self.assertEqual(caught_speeding(81,False), 'Big Ticket')\n",
    "\n",
    "if __name__ == '__main__':\n",
    "    unittest.main()"
   ]
  },
  {
   "cell_type": "code",
   "execution_count": 58,
   "metadata": {},
   "outputs": [
    {
     "name": "stderr",
     "output_type": "stream",
     "text": [
      ".\n",
      "----------------------------------------------------------------------\n",
      "Ran 1 test in 0.000s\n",
      "\n",
      "OK\n"
     ]
    }
   ],
   "source": [
    "! python \"programs/01-02-Exercises/test_caught_speeding.py\""
   ]
  }
 ],
 "metadata": {
  "kernelspec": {
   "display_name": "Python 3 (ipykernel)",
   "language": "python",
   "name": "python3"
  },
  "language_info": {
   "codemirror_mode": {
    "name": "ipython",
    "version": 3
   },
   "file_extension": ".py",
   "mimetype": "text/x-python",
   "name": "python",
   "nbconvert_exporter": "python",
   "pygments_lexer": "ipython3",
   "version": "3.8.0"
  }
 },
 "nbformat": 4,
 "nbformat_minor": 1
}
